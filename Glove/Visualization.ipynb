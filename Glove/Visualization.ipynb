{
 "cells": [
  {
   "cell_type": "markdown",
   "metadata": {},
   "source": [
    "# GloVe from the Stanford NLP Group"
   ]
  },
  {
   "cell_type": "markdown",
   "metadata": {},
   "source": [
    "### Turning GloVe text file to data structure (dictionary)"
   ]
  },
  {
   "cell_type": "code",
   "execution_count": 1,
   "metadata": {
    "collapsed": true
   },
   "outputs": [],
   "source": [
    "f = open('glove.6B/glove.6B.50d.txt','r')\n",
    "model = {}\n",
    "for line in f:\n",
    "    split_line = line.split()\n",
    "    word = split_line[0]\n",
    "    embedding = [float(val) for val in split_line[1:]]\n",
    "    model[word] = embedding"
   ]
  },
  {
   "cell_type": "code",
   "execution_count": 3,
   "metadata": {
    "collapsed": false
   },
   "outputs": [
    {
     "data": {
      "text/plain": [
       "[-0.38497,\n",
       " 0.80092,\n",
       " 0.064106,\n",
       " -0.28355,\n",
       " -0.026759,\n",
       " -0.34532,\n",
       " -0.64253,\n",
       " -0.11729,\n",
       " -0.33257,\n",
       " 0.55243,\n",
       " -0.087813,\n",
       " 0.9035,\n",
       " 0.47102,\n",
       " 0.56657,\n",
       " 0.6985,\n",
       " -0.35229,\n",
       " -0.86542,\n",
       " 0.90573,\n",
       " 0.03576,\n",
       " -0.071705,\n",
       " -0.12327,\n",
       " 0.54923,\n",
       " 0.47005,\n",
       " 0.35572,\n",
       " 1.2611,\n",
       " -0.67581,\n",
       " -0.94983,\n",
       " 0.68666,\n",
       " 0.3871,\n",
       " -1.3492,\n",
       " 0.63512,\n",
       " 0.46416,\n",
       " -0.48814,\n",
       " 0.83827,\n",
       " -0.9246,\n",
       " -0.33722,\n",
       " 0.53741,\n",
       " -1.0616,\n",
       " -0.081403,\n",
       " -0.67111,\n",
       " 0.30923,\n",
       " -0.3923,\n",
       " -0.55002,\n",
       " -0.68827,\n",
       " 0.58049,\n",
       " -0.11626,\n",
       " 0.013139,\n",
       " -0.57654,\n",
       " 0.048833,\n",
       " 0.67204]"
      ]
     },
     "execution_count": 3,
     "metadata": {},
     "output_type": "execute_result"
    }
   ],
   "source": [
    "model['hello']"
   ]
  },
  {
   "cell_type": "code",
   "execution_count": 4,
   "metadata": {
    "collapsed": true
   },
   "outputs": [],
   "source": [
    "import numpy as np\n",
    "import pylab as Plot"
   ]
  },
  {
   "cell_type": "markdown",
   "metadata": {},
   "source": [
    "### Converting dictionary to matrix"
   ]
  },
  {
   "cell_type": "code",
   "execution_count": 5,
   "metadata": {
    "collapsed": true
   },
   "outputs": [],
   "source": [
    "# glove_matrix = Math.loadtxt(\"glove.6B.300d.embeddings.txt\");\n",
    "# glove_words = [line.strip() for line in open(\"glove.6B.300d.labels.txt\")]\n",
    "# glove_matrix = mod.values()\n",
    "# glove_words = mod.keys()"
   ]
  },
  {
   "cell_type": "code",
   "execution_count": 6,
   "metadata": {
    "collapsed": false
   },
   "outputs": [],
   "source": [
    "target_words = [line.strip().lower() for line in open(\"1000-words-csv.csv\")]\n",
    "\n",
    "rows = [model.keys().index(word) for word in target_words if word in model.keys()]"
   ]
  },
  {
   "cell_type": "code",
   "execution_count": 7,
   "metadata": {
    "collapsed": false
   },
   "outputs": [
    {
     "data": {
      "text/plain": [
       "[365155, 122470, 358154, 271563, 341134, 19225, 19212, 19215, 41830, 91090]"
      ]
     },
     "execution_count": 7,
     "metadata": {},
     "output_type": "execute_result"
    }
   ],
   "source": [
    "rows[:10]"
   ]
  },
  {
   "cell_type": "code",
   "execution_count": 8,
   "metadata": {
    "collapsed": false,
    "scrolled": true
   },
   "outputs": [],
   "source": [
    "target_matrix = np.array([model.values()[i] for i in rows])\n",
    "#for i in rows:\n",
    "#    target_matrix.append(glove_matrix[i])"
   ]
  },
  {
   "cell_type": "code",
   "execution_count": 9,
   "metadata": {
    "collapsed": false
   },
   "outputs": [
    {
     "data": {
      "text/plain": [
       "array([[  4.18000000e-01,   2.49680000e-01,  -4.12420000e-01,\n",
       "          1.21700000e-01,   3.45270000e-01,  -4.44570000e-02,\n",
       "         -4.96880000e-01,  -1.78620000e-01,  -6.60230000e-04,\n",
       "         -6.56600000e-01,   2.78430000e-01,  -1.47670000e-01,\n",
       "         -5.56770000e-01,   1.46580000e-01,  -9.50950000e-03,\n",
       "          1.16580000e-02,   1.02040000e-01,  -1.27920000e-01,\n",
       "         -8.44300000e-01,  -1.21810000e-01,  -1.68010000e-02,\n",
       "         -3.32790000e-01,  -1.55200000e-01,  -2.31310000e-01,\n",
       "         -1.91810000e-01,  -1.88230000e+00,  -7.67460000e-01,\n",
       "          9.90510000e-02,  -4.21250000e-01,  -1.95260000e-01,\n",
       "          4.00710000e+00,  -1.85940000e-01,  -5.22870000e-01,\n",
       "         -3.16810000e-01,   5.92130000e-04,   7.44490000e-03,\n",
       "          1.77780000e-01,  -1.58970000e-01,   1.20410000e-02,\n",
       "         -5.42230000e-02,  -2.98710000e-01,  -1.57490000e-01,\n",
       "         -3.47580000e-01,  -4.56370000e-02,  -4.42510000e-01,\n",
       "          1.87850000e-01,   2.78490000e-03,  -1.84110000e-01,\n",
       "         -1.15140000e-01,  -7.85810000e-01],\n",
       "       [  7.08530000e-01,   5.70880000e-01,  -4.71600000e-01,\n",
       "          1.80480000e-01,   5.44490000e-01,   7.26030000e-01,\n",
       "          1.81570000e-01,  -5.23930000e-01,   1.03810000e-01,\n",
       "         -1.75660000e-01,   7.88520000e-02,  -3.62160000e-01,\n",
       "         -1.18290000e-01,  -8.33360000e-01,   1.19170000e-01,\n",
       "         -1.66050000e-01,   6.15550000e-02,  -1.27190000e-02,\n",
       "         -5.66230000e-01,   1.36160000e-02,   2.28510000e-01,\n",
       "         -1.43960000e-01,  -6.75490000e-02,  -3.81570000e-01,\n",
       "         -2.36980000e-01,  -1.70370000e+00,  -8.66920000e-01,\n",
       "         -2.67040000e-01,  -2.58900000e-01,   1.76700000e-01,\n",
       "          3.86760000e+00,  -1.61300000e-01,  -1.32730000e-01,\n",
       "         -6.88810000e-01,   1.84440000e-01,   5.24640000e-03,\n",
       "         -3.38740000e-01,  -7.89560000e-02,   2.41850000e-01,\n",
       "          3.65760000e-01,  -3.47270000e-01,   2.84830000e-01,\n",
       "          7.56930000e-02,  -6.21780000e-02,  -3.89880000e-01,\n",
       "          2.29020000e-01,  -2.16170000e-01,  -2.25620000e-01,\n",
       "         -9.39180000e-02,  -8.03750000e-01]])"
      ]
     },
     "execution_count": 9,
     "metadata": {},
     "output_type": "execute_result"
    }
   ],
   "source": [
    "target_matrix[:2]"
   ]
  },
  {
   "cell_type": "code",
   "execution_count": 8,
   "metadata": {
    "collapsed": true
   },
   "outputs": [],
   "source": [
    "#target_matrix = np.array(target_matrix)"
   ]
  },
  {
   "cell_type": "markdown",
   "metadata": {},
   "source": [
    "### Using a TSNE algorithm by Laurens van der Maaten\n",
    "\n",
    "- t-Distributed Stochastic Neighbor Embedding"
   ]
  },
  {
   "cell_type": "code",
   "execution_count": 11,
   "metadata": {
    "collapsed": false
   },
   "outputs": [],
   "source": [
    "#\n",
    "#  tsne.py\n",
    "#\n",
    "# Implementation of t-SNE in Python. The implementation was tested on Python 2.7.10, and it requires a working\n",
    "# installation of NumPy. The implementation comes with an example on the MNIST dataset. In order to plot the\n",
    "# results of this example, a working installation of matplotlib is required.\n",
    "#\n",
    "# The example can be run by executing: `ipython tsne.py`\n",
    "#\n",
    "#\n",
    "#  Created by Laurens van der Maaten on 20-12-08.\n",
    "#  Copyright (c) 2008 Tilburg University. All rights reserved.\n",
    "\n",
    "import numpy as Math\n",
    "import pylab as Plot\n",
    "\n",
    "def Hbeta(D = Math.array([]), beta = 1.0):\n",
    "\t\"\"\"Compute the perplexity and the P-row for a specific value of the precision of a Gaussian distribution.\"\"\"\n",
    "\n",
    "\t# Compute P-row and corresponding perplexity\n",
    "\tP = Math.exp(-D.copy() * beta);\n",
    "\tsumP = sum(P);\n",
    "\tH = Math.log(sumP) + beta * Math.sum(D * P) / sumP;\n",
    "\tP = P / sumP;\n",
    "\treturn H, P;\n",
    "\n",
    "\n",
    "def x2p(X = Math.array([]), tol = 1e-5, perplexity = 30.0):\n",
    "\t\"\"\"Performs a binary search to get P-values in such a way that each conditional Gaussian has the same perplexity.\"\"\"\n",
    "\n",
    "\t# Initialize some variables\n",
    "\tprint \"Computing pairwise distances...\"\n",
    "\t(n, d) = X.shape;\n",
    "\tsum_X = Math.sum(Math.square(X), 1);\n",
    "\tD = Math.add(Math.add(-2 * Math.dot(X, X.T), sum_X).T, sum_X);\n",
    "\tP = Math.zeros((n, n));\n",
    "\tbeta = Math.ones((n, 1));\n",
    "\tlogU = Math.log(perplexity);\n",
    "\n",
    "\t# Loop over all datapoints\n",
    "\tfor i in range(n):\n",
    "\n",
    "\t\t# Print progress\n",
    "\t\tif i % 500 == 0:\n",
    "\t\t\tprint \"Computing P-values for point \", i, \" of \", n, \"...\"\n",
    "\n",
    "\t\t# Compute the Gaussian kernel and entropy for the current precision\n",
    "\t\tbetamin = -Math.inf;\n",
    "\t\tbetamax =  Math.inf;\n",
    "\t\tDi = D[i, Math.concatenate((Math.r_[0:i], Math.r_[i+1:n]))];\n",
    "\t\t(H, thisP) = Hbeta(Di, beta[i]);\n",
    "\n",
    "\t\t# Evaluate whether the perplexity is within tolerance\n",
    "\t\tHdiff = H - logU;\n",
    "\t\ttries = 0;\n",
    "\t\twhile Math.abs(Hdiff) > tol and tries < 50:\n",
    "\n",
    "\t\t\t# If not, increase or decrease precision\n",
    "\t\t\tif Hdiff > 0:\n",
    "\t\t\t\tbetamin = beta[i].copy();\n",
    "\t\t\t\tif betamax == Math.inf or betamax == -Math.inf:\n",
    "\t\t\t\t\tbeta[i] = beta[i] * 2;\n",
    "\t\t\t\telse:\n",
    "\t\t\t\t\tbeta[i] = (beta[i] + betamax) / 2;\n",
    "\t\t\telse:\n",
    "\t\t\t\tbetamax = beta[i].copy();\n",
    "\t\t\t\tif betamin == Math.inf or betamin == -Math.inf:\n",
    "\t\t\t\t\tbeta[i] = beta[i] / 2;\n",
    "\t\t\t\telse:\n",
    "\t\t\t\t\tbeta[i] = (beta[i] + betamin) / 2;\n",
    "\n",
    "\t\t\t# Recompute the values\n",
    "\t\t\t(H, thisP) = Hbeta(Di, beta[i]);\n",
    "\t\t\tHdiff = H - logU;\n",
    "\t\t\ttries = tries + 1;\n",
    "\n",
    "\t\t# Set the final row of P\n",
    "\t\tP[i, Math.concatenate((Math.r_[0:i], Math.r_[i+1:n]))] = thisP;\n",
    "\n",
    "\t# Return final P-matrix\n",
    "\tprint \"Mean value of sigma: \", Math.mean(Math.sqrt(1 / beta));\n",
    "\treturn P;\n",
    "\n",
    "\n",
    "def pca(X = Math.array([]), no_dims = 50):\n",
    "\t\"\"\"Runs PCA on the NxD array X in order to reduce its dimensionality to no_dims dimensions.\"\"\"\n",
    "\n",
    "\tprint \"Preprocessing the data using PCA...\"\n",
    "\t(n, d) = X.shape;\n",
    "\tX = X - Math.tile(Math.mean(X, 0), (n, 1));\n",
    "\t(l, M) = Math.linalg.eig(Math.dot(X.T, X));\n",
    "\tY = Math.dot(X, M[:,0:no_dims]);\n",
    "\treturn Y;\n",
    "\n",
    "\n",
    "def tsne(X = Math.array([]), no_dims = 2, initial_dims = 50, perplexity = 30.0):\n",
    "\t\"\"\"Runs t-SNE on the dataset in the NxD array X to reduce its dimensionality to no_dims dimensions.\n",
    "\tThe syntaxis of the function is Y = tsne.tsne(X, no_dims, perplexity), where X is an NxD NumPy array.\"\"\"\n",
    "\n",
    "\t# Check inputs\n",
    "\tif isinstance(no_dims, float):\n",
    "\t\tprint \"Error: array X should have type float.\";\n",
    "\t\treturn -1;\n",
    "\tif round(no_dims) != no_dims:\n",
    "\t\tprint \"Error: number of dimensions should be an integer.\";\n",
    "\t\treturn -1;\n",
    "\n",
    "\t# Initialize variables\n",
    "\tX = pca(X, initial_dims).real;\n",
    "\t(n, d) = X.shape;\n",
    "\tmax_iter = 1000;\n",
    "\tinitial_momentum = 0.5;\n",
    "\tfinal_momentum = 0.8;\n",
    "\teta = 500;\n",
    "\tmin_gain = 0.01;\n",
    "\tY = Math.random.randn(n, no_dims);\n",
    "\tdY = Math.zeros((n, no_dims));\n",
    "\tiY = Math.zeros((n, no_dims));\n",
    "\tgains = Math.ones((n, no_dims));\n",
    "\n",
    "\t# Compute P-values\n",
    "\tP = x2p(X, 1e-5, perplexity);\n",
    "\tP = P + Math.transpose(P);\n",
    "\tP = P / Math.sum(P);\n",
    "\tP = P * 4;\t\t\t\t\t\t\t\t\t# early exaggeration\n",
    "\tP = Math.maximum(P, 1e-12);\n",
    "\n",
    "\t# Run iterations\n",
    "\tfor iter in range(max_iter):\n",
    "\n",
    "\t\t# Compute pairwise affinities\n",
    "\t\tsum_Y = Math.sum(Math.square(Y), 1);\n",
    "\t\tnum = 1 / (1 + Math.add(Math.add(-2 * Math.dot(Y, Y.T), sum_Y).T, sum_Y));\n",
    "\t\tnum[range(n), range(n)] = 0;\n",
    "\t\tQ = num / Math.sum(num);\n",
    "\t\tQ = Math.maximum(Q, 1e-12);\n",
    "\n",
    "\t\t# Compute gradient\n",
    "\t\tPQ = P - Q;\n",
    "\t\tfor i in range(n):\n",
    "\t\t\tdY[i,:] = Math.sum(Math.tile(PQ[:,i] * num[:,i], (no_dims, 1)).T * (Y[i,:] - Y), 0);\n",
    "\n",
    "\t\t# Perform the update\n",
    "\t\tif iter < 20:\n",
    "\t\t\tmomentum = initial_momentum\n",
    "\t\telse:\n",
    "\t\t\tmomentum = final_momentum\n",
    "\t\tgains = (gains + 0.2) * ((dY > 0) != (iY > 0)) + (gains * 0.8) * ((dY > 0) == (iY > 0));\n",
    "\t\tgains[gains < min_gain] = min_gain;\n",
    "\t\tiY = momentum * iY - eta * (gains * dY);\n",
    "\t\tY = Y + iY;\n",
    "\t\tY = Y - Math.tile(Math.mean(Y, 0), (n, 1));\n",
    "\n",
    "\t\t# Compute current value of cost function\n",
    "\t\tif (iter + 1) % 10 == 0:\n",
    "\t\t\tC = Math.sum(P * Math.log(P / Q));\n",
    "\t\t\tprint \"Iteration \", (iter + 1), \": error is \", C\n",
    "\n",
    "\t\t# Stop lying about P-values\n",
    "\t\tif iter == 100:\n",
    "\t\t\tP = P / 4;\n",
    "\n",
    "\t# Return solution\n",
    "\treturn Y;\n",
    "\n",
    "\n",
    "#if __name__ == \"__main__\":\n",
    "#\tprint \"Run Y = tsne.tsne(X, no_dims, perplexity) to perform t-SNE on your dataset.\"\n",
    "#\tprint \"Running example on 2,500 MNIST digits...\"\n",
    "#\tX = Math.loadtxt(\"mnist2500_X.txt\");\n",
    "#\tlabels = Math.loadtxt(\"mnist2500_labels.txt\");\n",
    "#\tY = tsne(X, 2, 50, 20.0);\n",
    "#\tPlot.scatter(Y[:,0], Y[:,1], 20, labels);\n",
    "#\tPlot.show();\n"
   ]
  },
  {
   "cell_type": "code",
   "execution_count": 12,
   "metadata": {
    "collapsed": false
   },
   "outputs": [
    {
     "name": "stdout",
     "output_type": "stream",
     "text": [
      "Preprocessing the data using PCA...\n",
      "Computing pairwise distances...\n",
      "Computing P-values for point  0  of  995 ...\n",
      "Computing P-values for point  500  of  995 ...\n",
      "Mean value of sigma:  1.28544506544\n",
      "Iteration  10 : error is  18.1052019562\n",
      "Iteration  20 : error is  17.7098824514\n",
      "Iteration  30 : error is  17.3119348526\n",
      "Iteration  40 : error is  17.4729267115\n",
      "Iteration  50 : error is  17.3254802149\n",
      "Iteration  60 : error is  17.3816951498\n",
      "Iteration  70 : error is  17.3635778577\n",
      "Iteration  80 : error is  17.3610285778\n",
      "Iteration  90 : error is  17.3585244808\n",
      "Iteration  100 : error is  17.3384517717\n",
      "Iteration  110 : error is  2.2119993211\n",
      "Iteration  120 : error is  1.83787400658\n",
      "Iteration  130 : error is  1.70013163273\n",
      "Iteration  140 : error is  1.62307522607\n",
      "Iteration  150 : error is  1.57301050383\n",
      "Iteration  160 : error is  1.5380366567\n",
      "Iteration  170 : error is  1.51245646747\n",
      "Iteration  180 : error is  1.49264595899\n",
      "Iteration  190 : error is  1.47705183578\n",
      "Iteration  200 : error is  1.46456907894\n",
      "Iteration  210 : error is  1.45446727536\n",
      "Iteration  220 : error is  1.44617923203\n",
      "Iteration  230 : error is  1.4391772305\n",
      "Iteration  240 : error is  1.43316435723\n",
      "Iteration  250 : error is  1.42832182642\n",
      "Iteration  260 : error is  1.42431384582\n",
      "Iteration  270 : error is  1.42095350386\n",
      "Iteration  280 : error is  1.41799866075\n",
      "Iteration  290 : error is  1.415408017\n",
      "Iteration  300 : error is  1.41312032026\n",
      "Iteration  310 : error is  1.41118662387\n",
      "Iteration  320 : error is  1.40946450312\n",
      "Iteration  330 : error is  1.40777157776\n",
      "Iteration  340 : error is  1.40588560977\n",
      "Iteration  350 : error is  1.4043832785\n",
      "Iteration  360 : error is  1.40323661445\n",
      "Iteration  370 : error is  1.40226323366\n",
      "Iteration  380 : error is  1.40138984634\n",
      "Iteration  390 : error is  1.40058502424\n",
      "Iteration  400 : error is  1.39984601772\n",
      "Iteration  410 : error is  1.39917489304\n",
      "Iteration  420 : error is  1.39856478027\n",
      "Iteration  430 : error is  1.39799653271\n",
      "Iteration  440 : error is  1.39746251061\n",
      "Iteration  450 : error is  1.39699770294\n",
      "Iteration  460 : error is  1.39658443135\n",
      "Iteration  470 : error is  1.39620787035\n",
      "Iteration  480 : error is  1.39586267499\n",
      "Iteration  490 : error is  1.39554430349\n",
      "Iteration  500 : error is  1.39524621422\n",
      "Iteration  510 : error is  1.39495338894\n",
      "Iteration  520 : error is  1.3946532366\n",
      "Iteration  530 : error is  1.39436156295\n",
      "Iteration  540 : error is  1.39411229699\n",
      "Iteration  550 : error is  1.39388784441\n",
      "Iteration  560 : error is  1.3936776172\n",
      "Iteration  570 : error is  1.39348380367\n",
      "Iteration  580 : error is  1.39330518131\n",
      "Iteration  590 : error is  1.39313720213\n",
      "Iteration  600 : error is  1.39297780405\n",
      "Iteration  610 : error is  1.39282435993\n",
      "Iteration  620 : error is  1.39267444078\n",
      "Iteration  630 : error is  1.39253426299\n",
      "Iteration  640 : error is  1.39239989668\n",
      "Iteration  650 : error is  1.392252283\n",
      "Iteration  660 : error is  1.39203333621\n",
      "Iteration  670 : error is  1.39178480954\n",
      "Iteration  680 : error is  1.39160458834\n",
      "Iteration  690 : error is  1.39142166771\n",
      "Iteration  700 : error is  1.39119442135\n",
      "Iteration  710 : error is  1.39093843663\n",
      "Iteration  720 : error is  1.39078518321\n",
      "Iteration  730 : error is  1.39067380187\n",
      "Iteration  740 : error is  1.39058284276\n",
      "Iteration  750 : error is  1.39050085364\n",
      "Iteration  760 : error is  1.39042571084\n",
      "Iteration  770 : error is  1.39035712287\n",
      "Iteration  780 : error is  1.39029141236\n",
      "Iteration  790 : error is  1.39021880981\n",
      "Iteration  800 : error is  1.39013224031\n",
      "Iteration  810 : error is  1.39007434034\n",
      "Iteration  820 : error is  1.39002556273\n",
      "Iteration  830 : error is  1.38998008302\n",
      "Iteration  840 : error is  1.38993600615\n",
      "Iteration  850 : error is  1.38989335146\n",
      "Iteration  860 : error is  1.38985207977\n",
      "Iteration  870 : error is  1.3898121169\n",
      "Iteration  880 : error is  1.38977323104\n",
      "Iteration  890 : error is  1.38973558201\n",
      "Iteration  900 : error is  1.38969986447\n",
      "Iteration  910 : error is  1.38966570268\n",
      "Iteration  920 : error is  1.38963245509\n",
      "Iteration  930 : error is  1.38960003583\n",
      "Iteration  940 : error is  1.3895686156\n",
      "Iteration  950 : error is  1.38953838879\n",
      "Iteration  960 : error is  1.38950938877\n",
      "Iteration  970 : error is  1.38948188402\n",
      "Iteration  980 : error is  1.38945558495\n",
      "Iteration  990 : error is  1.38943023327\n",
      "Iteration  1000 : error is  1.38940580187\n"
     ]
    }
   ],
   "source": [
    "reduced_matrix = tsne(target_matrix, 2)"
   ]
  },
  {
   "cell_type": "code",
   "execution_count": 13,
   "metadata": {
    "collapsed": true
   },
   "outputs": [],
   "source": [
    "import matplotlib.pyplot as plt"
   ]
  },
  {
   "cell_type": "code",
   "execution_count": 18,
   "metadata": {
    "collapsed": true
   },
   "outputs": [],
   "source": [
    "plt.figure(figsize=(100, 100), dpi=100)\n",
    "max_x = Math.amax(reduced_matrix, axis=0)[0]\n",
    "max_y = Math.amax(reduced_matrix, axis=0)[1]\n",
    "plt.xlim((-max_x,max_x))\n",
    "plt.ylim((-max_y,max_y))\n",
    "\n",
    "plt.scatter(reduced_matrix[:, 0], reduced_matrix[:, 1], 20);\n",
    "\n",
    "for row_id in range(0, len(rows)):\n",
    "    target_word = model.keys()[rows[row_id]]\n",
    "    x = reduced_matrix[row_id, 0]\n",
    "    y = reduced_matrix[row_id, 1]\n",
    "    plt.annotate(target_word, (x,y), fontsize=20)\n",
    "\n",
    "plt.savefig(\"glove_1000.png\")"
   ]
  }
 ],
 "metadata": {
  "anaconda-cloud": {},
  "kernelspec": {
   "display_name": "Python [conda env:dsi]",
   "language": "python",
   "name": "conda-env-dsi-py"
  },
  "language_info": {
   "codemirror_mode": {
    "name": "ipython",
    "version": 2
   },
   "file_extension": ".py",
   "mimetype": "text/x-python",
   "name": "python",
   "nbconvert_exporter": "python",
   "pygments_lexer": "ipython2",
   "version": "2.7.13"
  }
 },
 "nbformat": 4,
 "nbformat_minor": 1
}
